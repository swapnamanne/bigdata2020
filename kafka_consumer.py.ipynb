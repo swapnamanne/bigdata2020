{
 "cells": [
  {
   "cell_type": "code",
   "execution_count": 1,
   "metadata": {},
   "outputs": [],
   "source": [
    "from kafka import KafkaConsumer"
   ]
  },
  {
   "cell_type": "code",
   "execution_count": 2,
   "metadata": {},
   "outputs": [],
   "source": [
    "consumer = KafkaConsumer('zoo-lion',bootstrap_servers=['localhost:9093'],api_version=(0,10))"
   ]
  },
  {
   "cell_type": "code",
   "execution_count": 3,
   "metadata": {},
   "outputs": [
    {
     "name": "stdout",
     "output_type": "stream",
     "text": [
      "b'how are you'\n",
      "b'\\n\\nBLUEMOON \\n'\n",
      "b'Say that thou didst forsake me for some fault,And I will comment upon that offence,Speak of my lameness, and I straight will halt:Against thy reasons making no defence.Thou canst not (love) disgrace me half so ill,To set a form upon desired change,As I will my self disgrace, knowing thy will I will acquaintance strangle and look strange:Be absent from thy walks and in my tongue,Thy sweet beloved name no more shall dwell,Lest I (too much profane) should do it wronk:And haply of our old acquaintance tell. For thee, against my self I will vow debate,For I must never love him whom thou dost hate'\n",
      "b'\\n\\nFullmoon beautiful\\n'\n",
      "b'Then hate me when thou wilt, if ever, now, Now while the world is bent my deeds to cross,join with the spite of fortune, make me bow,And do not drop in for an after-loss:'\n"
     ]
    }
   ],
   "source": [
    "for msg in consumer:\n",
    "    if msg.value == b'end':\n",
    "        break\n",
    "        \n",
    "    print(msg.value)"
   ]
  },
  {
   "cell_type": "code",
   "execution_count": null,
   "metadata": {},
   "outputs": [],
   "source": []
  }
 ],
 "metadata": {
  "kernelspec": {
   "display_name": "Python 3",
   "language": "python",
   "name": "python3"
  },
  "language_info": {
   "codemirror_mode": {
    "name": "ipython",
    "version": 3
   },
   "file_extension": ".py",
   "mimetype": "text/x-python",
   "name": "python",
   "nbconvert_exporter": "python",
   "pygments_lexer": "ipython3",
   "version": "3.6.9"
  }
 },
 "nbformat": 4,
 "nbformat_minor": 4
}
