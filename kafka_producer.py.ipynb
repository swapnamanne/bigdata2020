{
 "cells": [
  {
   "cell_type": "code",
   "execution_count": 1,
   "metadata": {},
   "outputs": [],
   "source": [
    "from kafka import KafkaProducer\n",
    "from time import sleep"
   ]
  },
  {
   "cell_type": "code",
   "execution_count": 2,
   "metadata": {},
   "outputs": [],
   "source": [
    "producer = KafkaProducer(bootstrap_servers=['localhost:9093'],api_version=(0,10,1))"
   ]
  },
  {
   "cell_type": "code",
   "execution_count": 3,
   "metadata": {
    "scrolled": true
   },
   "outputs": [
    {
     "data": {
      "text/plain": [
       "<kafka.producer.future.FutureRecordMetadata at 0x7f16f82bed30>"
      ]
     },
     "execution_count": 3,
     "metadata": {},
     "output_type": "execute_result"
    }
   ],
   "source": [
    "producer.send('zoo-lion',b'how are you')"
   ]
  },
  {
   "cell_type": "code",
   "execution_count": 4,
   "metadata": {},
   "outputs": [],
   "source": [
    "msgs_send = ['Say that thou didst forsake me for some fault,And I will comment upon that offence,Speak of my lameness, and I straight will halt:Against thy reasons making no defence.Thou canst not (love) disgrace me half so ill,To set a form upon desired change,As I will my self disgrace, knowing thy will I will acquaintance strangle and look strange:Be absent from thy walks and in my tongue,Thy sweet beloved name no more shall dwell,Lest I (too much profane) should do it wronk:And haply of our old acquaintance tell. For thee, against my self I will vow debate,For I must never love him whom thou dost hate']"
   ]
  },
  {
   "cell_type": "code",
   "execution_count": 5,
   "metadata": {},
   "outputs": [],
   "source": [
    "text_send =['Then hate me when thou wilt, if ever, now, Now while the world is bent my deeds to cross,join with the spite of fortune, make me bow,And do not drop in for an after-loss:']"
   ]
  },
  {
   "cell_type": "code",
   "execution_count": 6,
   "metadata": {},
   "outputs": [
    {
     "data": {
      "text/plain": [
       "<kafka.producer.future.FutureRecordMetadata at 0x7f16f82d4b38>"
      ]
     },
     "execution_count": 6,
     "metadata": {},
     "output_type": "execute_result"
    }
   ],
   "source": [
    "producer.send('zoo-lion',b'\\n\\nBLUEMOON \\n')"
   ]
  },
  {
   "cell_type": "code",
   "execution_count": 7,
   "metadata": {},
   "outputs": [
    {
     "name": "stdout",
     "output_type": "stream",
     "text": [
      "msg sent:Say that thou didst forsake me for some fault,And I will comment upon that offence,Speak of my lameness, and I straight will halt:Against thy reasons making no defence.Thou canst not (love) disgrace me half so ill,To set a form upon desired change,As I will my self disgrace, knowing thy will I will acquaintance strangle and look strange:Be absent from thy walks and in my tongue,Thy sweet beloved name no more shall dwell,Lest I (too much profane) should do it wronk:And haply of our old acquaintance tell. For thee, against my self I will vow debate,For I must never love him whom thou dost hate\n"
     ]
    }
   ],
   "source": [
    "for msg in msgs_send:\n",
    "    producer.send('zoo-lion',msg.encode('utf-8'))\n",
    "    sleep(2)\n",
    "    print(\"msg sent:\"+msg)\n",
    "    "
   ]
  },
  {
   "cell_type": "code",
   "execution_count": 8,
   "metadata": {},
   "outputs": [
    {
     "data": {
      "text/plain": [
       "<kafka.producer.future.FutureRecordMetadata at 0x7f16f82d4e80>"
      ]
     },
     "execution_count": 8,
     "metadata": {},
     "output_type": "execute_result"
    }
   ],
   "source": [
    "producer.send('zoo-lion',b'\\n\\nFullmoon beautiful\\n')"
   ]
  },
  {
   "cell_type": "code",
   "execution_count": 9,
   "metadata": {},
   "outputs": [
    {
     "name": "stdout",
     "output_type": "stream",
     "text": [
      "msg sent:Then hate me when thou wilt, if ever, now, Now while the world is bent my deeds to cross,join with the spite of fortune, make me bow,And do not drop in for an after-loss:\n"
     ]
    }
   ],
   "source": [
    "for msg in text_send:\n",
    "    producer.send('zoo-lion',msg.encode('utf-8'))\n",
    "    sleep(2)\n",
    "    print(\"msg sent:\"+msg)"
   ]
  },
  {
   "cell_type": "code",
   "execution_count": 10,
   "metadata": {},
   "outputs": [
    {
     "data": {
      "text/plain": [
       "<kafka.producer.future.FutureRecordMetadata at 0x7f16f82d4ba8>"
      ]
     },
     "execution_count": 10,
     "metadata": {},
     "output_type": "execute_result"
    }
   ],
   "source": [
    "producer.send('zoo-lion',b'end')"
   ]
  }
 ],
 "metadata": {
  "kernelspec": {
   "display_name": "Python 3",
   "language": "python",
   "name": "python3"
  },
  "language_info": {
   "codemirror_mode": {
    "name": "ipython",
    "version": 3
   },
   "file_extension": ".py",
   "mimetype": "text/x-python",
   "name": "python",
   "nbconvert_exporter": "python",
   "pygments_lexer": "ipython3",
   "version": "3.6.9"
  }
 },
 "nbformat": 4,
 "nbformat_minor": 4
}
